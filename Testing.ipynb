{
 "cells": [
  {
   "cell_type": "code",
   "execution_count": 18,
   "metadata": {
    "ExecuteTime": {
     "end_time": "2021-02-12T17:13:52.149559Z",
     "start_time": "2021-02-12T17:13:52.144500Z"
    }
   },
   "outputs": [],
   "source": [
    "import json\n",
    "from yaml import safe_load\n",
    "import pandas as pd\n",
    "# Extractive\n",
    "from nltk.tokenize import WordPunctTokenizer\n",
    "from sumy.parsers.plaintext import PlaintextParser\n",
    "from sumy.nlp.tokenizers import Tokenizer\n",
    "from sumy.nlp.stemmers import Stemmer\n",
    "from sumy.summarizers.lsa import LsaSummarizer\n",
    "from sumy.summarizers.luhn import LuhnSummarizer\n",
    "from sumy.summarizers.sum_basic import SumBasicSummarizer\n",
    "from sumy.summarizers.lex_rank import LexRankSummarizer\n",
    "from sumy.summarizers.kl import KLSummarizer\n",
    "from sumy.summarizers.reduction import ReductionSummarizer\n",
    "from sumy.utils import get_stop_words\n",
    "# Abstractive\n",
    "# from sklearn.model_selection import train_test_split\n",
    "# from keras_text_summarization.library.utility.plot_utils import plot_and_save_history\n",
    "# from keras_text_summarization.library.seq2seq import Seq2SeqSummarizer\n",
    "# from keras_text_summarization.library.applications.fake_news_loader import fit_text\n",
    "import numpy as np\n",
    "\n",
    "import nltk\n",
    "from nltk.tokenize import sent_tokenize\n",
    "from nltk.corpus import stopwords\n",
    "import glob\n",
    "\n",
    "from html.parser import HTMLParser\n",
    "from bs4 import BeautifulSoup\n",
    "from pprint import pprint"
   ]
  },
  {
   "cell_type": "code",
   "execution_count": 24,
   "metadata": {
    "ExecuteTime": {
     "end_time": "2021-02-12T17:21:27.672566Z",
     "start_time": "2021-02-12T17:21:27.670270Z"
    }
   },
   "outputs": [],
   "source": [
    "import pickle"
   ]
  },
  {
   "cell_type": "code",
   "execution_count": 62,
   "metadata": {
    "ExecuteTime": {
     "end_time": "2021-02-12T17:34:16.806827Z",
     "start_time": "2021-02-12T17:34:16.802543Z"
    }
   },
   "outputs": [],
   "source": [
    "objects = []\n",
    "with (open(\n",
    "        \"../../../Downloads/XSum-master/XSum-Dataset/xsum-extracts-from-downloads/10172644.data\",\n",
    "        \"r\")) as openfile:\n",
    "    x = openfile.read()\n",
    "\n",
    "x = x.split(\"\\n\\n\")[1:]\n",
    "\n",
    "x_dict = {\"Summary\": \" \".join(x[0].split(\"\\n\")[1:]), \n",
    "         \"Paragraphs\": x[1].split(\"\\n\")[1:]}"
   ]
  },
  {
   "cell_type": "code",
   "execution_count": 75,
   "metadata": {
    "ExecuteTime": {
     "end_time": "2021-02-12T17:42:43.187496Z",
     "start_time": "2021-02-12T17:42:43.184178Z"
    }
   },
   "outputs": [],
   "source": [
    "def prepare_data(file):\n",
    "    with open(file, 'r') as f:\n",
    "        x = f.read().split(\"\\n\\n\")[1:]\n",
    "    return ({\n",
    "        \"Summary\":\n",
    "        \" \".join(x[0].split(\"\\n\")[1:]),\n",
    "        \"Paragraphs\":\n",
    "        [el for el in x[1].split(\"\\n\")[1:] if el not in remove_words_list]\n",
    "    })"
   ]
  },
  {
   "cell_type": "code",
   "execution_count": 80,
   "metadata": {
    "ExecuteTime": {
     "end_time": "2021-02-12T17:43:06.510134Z",
     "start_time": "2021-02-12T17:43:06.507459Z"
    }
   },
   "outputs": [],
   "source": [
    "remove_words_list = ['Share this with',\n",
    "  'Email',\n",
    "  'Facebook',\n",
    "  'Messenger',\n",
    "  'Messenger',\n",
    "  'Twitter',\n",
    "  'Pinterest',\n",
    "  'WhatsApp',\n",
    "  'LinkedIn',\n",
    "  'Linkedin',                     \n",
    "  'Copy this link',\n",
    "  'These are external links and will open in a new window']"
   ]
  },
  {
   "cell_type": "code",
   "execution_count": 81,
   "metadata": {
    "ExecuteTime": {
     "end_time": "2021-02-12T17:43:09.076908Z",
     "start_time": "2021-02-12T17:43:08.296868Z"
    }
   },
   "outputs": [],
   "source": [
    "list_xsum = [\n",
    "    prepare_data(file) for file in glob.glob(\"./datasets/XSUM_DATA/*.data\")\n",
    "]"
   ]
  },
  {
   "cell_type": "code",
   "execution_count": 88,
   "metadata": {
    "ExecuteTime": {
     "end_time": "2021-02-12T17:43:34.597953Z",
     "start_time": "2021-02-12T17:43:34.595003Z"
    }
   },
   "outputs": [
    {
     "data": {
      "text/plain": [
       "14143"
      ]
     },
     "execution_count": 88,
     "metadata": {},
     "output_type": "execute_result"
    }
   ],
   "source": [
    "with open(\"\")"
   ]
  },
  {
   "cell_type": "code",
   "execution_count": null,
   "metadata": {},
   "outputs": [],
   "source": []
  },
  {
   "cell_type": "code",
   "execution_count": 42,
   "metadata": {
    "ExecuteTime": {
     "end_time": "2021-02-12T17:28:17.828195Z",
     "start_time": "2021-02-12T17:28:17.292878Z"
    }
   },
   "outputs": [
    {
     "name": "stdout",
     "output_type": "stream",
     "text": [
      "\n",
      "\t\t SUMMARIZATION REVIEW\t\t\n",
      "\n",
      "[INFO] Loading configuration\n",
      "[INFO] Loading json data from\n"
     ]
    }
   ],
   "source": [
    "print(\"\\n\\t\\t SUMMARIZATION REVIEW\\t\\t\\n\")\n",
    "print('[INFO] Loading configuration')\n",
    "with open(\"./config.yml\", 'r') as file:\n",
    "    config_var = safe_load(file)[\"main\"]\n",
    "\n",
    "print(\"[INFO] Loading json data from\")\n",
    "with open(\n",
    "        str(config_var['dataset_folder'])+\"/\"+str(config_var['data_to_use']),\n",
    "        'r'\n",
    "        ) as file:\n",
    "    data = json.load(file)"
   ]
  },
  {
   "cell_type": "code",
   "execution_count": 48,
   "metadata": {
    "ExecuteTime": {
     "end_time": "2021-02-12T17:29:31.700293Z",
     "start_time": "2021-02-12T17:29:31.696268Z"
    }
   },
   "outputs": [
    {
     "data": {
      "text/plain": [
       "dict_keys(['_id', 'Title', 'Date', 'Link', 'Summary', 'Paragraphs', 'Paragraphs Title'])"
      ]
     },
     "execution_count": 48,
     "metadata": {},
     "output_type": "execute_result"
    }
   ],
   "source": [
    "data[0].keys()"
   ]
  },
  {
   "cell_type": "code",
   "execution_count": 45,
   "metadata": {
    "ExecuteTime": {
     "end_time": "2021-02-12T17:28:40.252067Z",
     "start_time": "2021-02-12T17:28:40.248248Z"
    }
   },
   "outputs": [
    {
     "data": {
      "text/plain": [
       "['Obama takes the gloves off for Biden, and Congress grills tech executives. It’s Thursday, and this is your politics tip sheet. Sign up here to get On Politics in your inbox every weekday.',\n",
       " 'Mark Zuckerberg, Facebook’s chief executive, during his testimony yesterday. One lawmaker confronted him with Zuckerberg’s own emails, saying they showed a plot to take out a young competitor.',\n",
       " 'With Trump lagging behind Biden in most national surveys, the Trump campaign has recently begun to advance the argument that public pollsters are not reaching enough Republican participants.',\n",
       " 'The campaign has pointed to the fact that national polls now often find no more than a quarter of the electorate self-identifying as Republicans. The number was closer to one-third in 2016, according to exit polls and other postelection analyses.',\n",
       " '“National polls are often askew from what these 2016 exit polls were,” Bill Stepien, Trump’s campaign manager, argued in a call with reporters last week.',\n",
       " 'Certainly, pollsters — and news readers — ought to be concerned about any evidence that surveys might wrongly be disfavoring Trump, leading to a repeat of polling misfires in 2016.',\n",
       " 'Nate Cohn, the Upshot’s polling expert, looked into the Trump campaign’s claims by analyzing data from a string of New York Times/Siena College polls last month. Using the voter files from which respondents had been drawn, he concluded that Republicans were no less likely to respond to surveys than Democrats.',\n",
       " 'In fact, since people in relatively high-response demographics — like rural, white and older voters — tend to skew toward the G.O.P., Republicans had actually been a little bit easier for Siena’s pollsters to get in touch with than Democrats.',\n",
       " 'Generally speaking, it’s usually not a good idea to expect consistency from the partisan makeup of the country. As Gallup’s tracking numbers on the subject show, those figures are very fluid — easily influenced by the events in the news and the policy positions presently being advanced by one party or the other.',\n",
       " 'For what it’s worth, the tracker now corroborates the very data that Stepien’s team dislikes: In early June, the last time Gallup published new data on this, it found that 25 percent of the country identified as Republican.',\n",
       " 'That’s part of a steady downward trend for Republicans throughout the year, as Gallup’s Jeffrey Jones writes in a new analysis. When counting independents who lean toward one party, Americans in January were just as likely to favor the Republican Party as to pick the Democrats. By June, with the coronavirus raging and the economy down, 50 percent of respondents identified as or leaned toward Democrats, with just 39 percent for Republicans.',\n",
       " 'Join us today for two separate events:',\n",
       " 'First, at 1 p.m. Eastern, we’ll be discussing the unique challenges facing women during the pandemic and how to build a more equitable financial future. Special guests are Alicia Garza, a principal at the Black Futures Lab and co-founder of Black Lives Matter, Sallie Krawcheck, former Wall Street executive and co-founder and chief executive of Ellevest, a firm focused on closing the gender investment gap, and Bola Sokunbi, the founder and chief executive of Clever Girl Finance. Hosted by Jessica Bennett, gender editor at large for The Times. You can R.S.V.P. here.',\n",
       " 'Then, at 5 p.m. Eastern, join us for a three-part event:',\n",
       " 'We’ll start with a discussion about workers needing better jobs and better pay with Robert B. Reich, the labor secretary under President Bill Clinton, and Ai-jen Poo, head of the National Domestic Workers Alliance, moderated by The Times’s David Leonhardt. Then, watch Okieriete Onaodowan (“Hamilton”) and Lexi Underwood (“Little Fires Everywhere”) perform a poem written by taxi drivers, nannies and others from the Worker Writers School at PEN America. And hear from Times readers who share how much they make and whether they think their pay is fair. R.S.V.P. here.']"
      ]
     },
     "execution_count": 45,
     "metadata": {},
     "output_type": "execute_result"
    }
   ],
   "source": [
    "data[0][\"Paragraphs\"]"
   ]
  },
  {
   "cell_type": "code",
   "execution_count": null,
   "metadata": {},
   "outputs": [],
   "source": []
  },
  {
   "cell_type": "code",
   "execution_count": null,
   "metadata": {},
   "outputs": [],
   "source": []
  },
  {
   "cell_type": "code",
   "execution_count": 10,
   "metadata": {
    "ExecuteTime": {
     "end_time": "2021-02-09T10:40:41.783387Z",
     "start_time": "2021-02-09T10:40:41.751897Z"
    }
   },
   "outputs": [],
   "source": [
    "data = pd.DataFrame(data)"
   ]
  },
  {
   "cell_type": "code",
   "execution_count": 11,
   "metadata": {
    "ExecuteTime": {
     "end_time": "2021-02-09T10:40:42.762242Z",
     "start_time": "2021-02-09T10:40:42.735856Z"
    }
   },
   "outputs": [
    {
     "name": "stdout",
     "output_type": "stream",
     "text": [
      "[INFO] Removing articles without summary or paragraphs\n",
      "[INFO] Size before cleaning: 10335\n",
      "[INFO] Size after cleaning: 9480\n"
     ]
    }
   ],
   "source": [
    "print(\"[INFO] Removing articles without summary or paragraphs\")\n",
    "print(\"[INFO] Size before cleaning:\", len(data))\n",
    "data = data[(data[\"Summary\"].map(len) >= 1) &\n",
    "            (data[\"Paragraphs\"].map(len) >= 1)]\n",
    "print(\"[INFO] Size after cleaning:\", len(data))"
   ]
  },
  {
   "cell_type": "code",
   "execution_count": 43,
   "metadata": {
    "ExecuteTime": {
     "end_time": "2021-02-08T16:19:35.088081Z",
     "start_time": "2021-02-08T16:19:34.996120Z"
    }
   },
   "outputs": [
    {
     "name": "stdout",
     "output_type": "stream",
     "text": [
      "[INFO] Joining paragraphs\n"
     ]
    }
   ],
   "source": [
    "print(\"[INFO] Joining paragraphs\")\n",
    "data[\"Text\"] = data[\"Paragraphs\"].apply(lambda x: \" \".join(x))"
   ]
  },
  {
   "cell_type": "code",
   "execution_count": 50,
   "metadata": {
    "ExecuteTime": {
     "end_time": "2021-02-08T16:22:12.474453Z",
     "start_time": "2021-02-08T16:22:09.098724Z"
    }
   },
   "outputs": [
    {
     "name": "stdout",
     "output_type": "stream",
     "text": [
      "[INFO] Tokenization of Articles and Summaries.\n"
     ]
    }
   ],
   "source": [
    "print(\"[INFO] Tokenization of Articles and Summaries.\")\n",
    "data[\"Tokenized_Paragraphs\"] = (data[\"Text\"].\n",
    "                                apply(lambda x: x.lower()).\n",
    "                                apply(WordPunctTokenizer().tokenize)\n",
    "                               )"
   ]
  },
  {
   "cell_type": "markdown",
   "metadata": {},
   "source": [
    "# Sumy"
   ]
  },
  {
   "cell_type": "markdown",
   "metadata": {},
   "source": [
    "Per poter fare summarization, esiste questa bellissima libreria chiamata `sumy`, che permette sia di definire una classe Documento, divisa in paragrafi, sia di usare le più importanti tecniche estrattive di *summarization*. \n",
    "\n",
    "Come punto di partenza, può essere qualcosa di interessante. È anche facile da implementare a partire dal mio dataset."
   ]
  },
  {
   "cell_type": "markdown",
   "metadata": {},
   "source": [
    "**COSA DA FARE**: contare in media di quante frasi sono fatte le summary, al fine di decidere quanto lunghe farle."
   ]
  },
  {
   "cell_type": "code",
   "execution_count": 61,
   "metadata": {
    "ExecuteTime": {
     "end_time": "2021-02-08T19:49:17.012137Z",
     "start_time": "2021-02-08T19:49:16.570939Z"
    }
   },
   "outputs": [
    {
     "name": "stdout",
     "output_type": "stream",
     "text": [
      "\n",
      "\t\t SUMMARIZATION REVIEW\t\t\n",
      "\n",
      "[INFO] Loading configuration\n",
      "[INFO] Loading json data from\n",
      "[INFO] Removing articles without summary or paragraphs\n",
      "[INFO] Size before cleaning: 10335\n",
      "[INFO] Size after cleaning: 9480\n"
     ]
    }
   ],
   "source": [
    "print(\"\\n\\t\\t SUMMARIZATION REVIEW\\t\\t\\n\")\n",
    "print('[INFO] Loading configuration')\n",
    "with open(\"./config.yml\", 'r') as file:\n",
    "    config_var = safe_load(file)[\"main\"]\n",
    "\n",
    "print(\"[INFO] Loading json data from\")\n",
    "with open(\n",
    "        str(config_var['dataset_folder'])+\"/\"+str(config_var['data_to_use']),\n",
    "        'r'\n",
    "        ) as file:\n",
    "    data = pd.DataFrame(json.load(file))\n",
    "    \n",
    "print(\"[INFO] Removing articles without summary or paragraphs\")\n",
    "print(\"[INFO] Size before cleaning:\", len(data))\n",
    "data = data[(data[\"Summary\"].map(len) >= 1) &\n",
    "            (data[\"Paragraphs\"].map(len) >= 1)]\n",
    "print(\"[INFO] Size after cleaning:\", len(data))    "
   ]
  },
  {
   "cell_type": "code",
   "execution_count": 104,
   "metadata": {
    "ExecuteTime": {
     "end_time": "2021-02-09T09:49:05.090241Z",
     "start_time": "2021-02-09T09:49:04.739063Z"
    }
   },
   "outputs": [],
   "source": [
    "data[\"Paragraphs_as_string\"] = data[\"Paragraphs\"].apply(\n",
    "    lambda x: \"\\n\\n\".join(x))"
   ]
  },
  {
   "cell_type": "code",
   "execution_count": 105,
   "metadata": {
    "ExecuteTime": {
     "end_time": "2021-02-09T09:49:05.095166Z",
     "start_time": "2021-02-09T09:49:05.092108Z"
    }
   },
   "outputs": [],
   "source": [
    "parser = PlaintextParser.from_string(data[\"Paragraphs_as_string\"][1], \n",
    "                                     tokenizer = Tokenizer('english'))"
   ]
  },
  {
   "cell_type": "code",
   "execution_count": 83,
   "metadata": {
    "ExecuteTime": {
     "end_time": "2021-02-08T20:17:31.590370Z",
     "start_time": "2021-02-08T20:17:31.588020Z"
    }
   },
   "outputs": [],
   "source": [
    "stemmer = Stemmer('english')"
   ]
  },
  {
   "cell_type": "code",
   "execution_count": 84,
   "metadata": {
    "ExecuteTime": {
     "end_time": "2021-02-08T20:17:31.914202Z",
     "start_time": "2021-02-08T20:17:31.911797Z"
    }
   },
   "outputs": [],
   "source": [
    "summarizer = LsaSummarizer(stemmer)\n",
    "\n",
    "summarizer.stop_words = get_stop_words('english')"
   ]
  },
  {
   "cell_type": "code",
   "execution_count": 86,
   "metadata": {
    "ExecuteTime": {
     "end_time": "2021-02-08T20:17:32.822897Z",
     "start_time": "2021-02-08T20:17:32.719675Z"
    }
   },
   "outputs": [
    {
     "name": "stdout",
     "output_type": "stream",
     "text": [
      "A poll late last week from The Des Moines Register showed her support at 17 percent, narrowly trailing Senator Bernie Sanders of Vermont, her ideological rival, but slightly ahead of former Vice President Joseph R. Biden Jr. and Mr. Buttigieg, the former mayor of South Bend, Ind.\n",
      "“I am ready to poke my eyes out about whether to support the candidate most likely to be a moderate and win the election,” said Dea Epley Birtwistle, 62, a school social worker who attended Ms. Warren’s event in Mason City.\n"
     ]
    }
   ],
   "source": [
    " for sentence in summarizer(parser.document, 2):\n",
    "        print(sentence)"
   ]
  },
  {
   "cell_type": "code",
   "execution_count": 93,
   "metadata": {
    "ExecuteTime": {
     "end_time": "2021-02-08T20:20:29.831969Z",
     "start_time": "2021-02-08T20:20:29.787776Z"
    }
   },
   "outputs": [
    {
     "name": "stdout",
     "output_type": "stream",
     "text": [
      "MASON CITY, Iowa — Kristen Marttila’s alarm went off at 6 a.m. on Saturday and soon she was filling up two thermoses — one with hot water, one with soup — to gird for the day ahead: a two-hour drive to Mason City to campaign for Senator Elizabeth Warren in the icy cold.\n",
      "A poll late last week from The Des Moines Register showed her support at 17 percent, narrowly trailing Senator Bernie Sanders of Vermont, her ideological rival, but slightly ahead of former Vice President Joseph R. Biden Jr. and Mr. Buttigieg, the former mayor of South Bend, Ind.\n"
     ]
    }
   ],
   "source": [
    "summarizer_2 = LuhnSummarizer(stemmer)\n",
    "\n",
    "summarizer_2.stop_words = get_stop_words('english')\n",
    "for sentence in summarizer_2(parser.document, 2):\n",
    "    print(sentence)"
   ]
  },
  {
   "cell_type": "code",
   "execution_count": 95,
   "metadata": {
    "ExecuteTime": {
     "end_time": "2021-02-08T20:22:25.913412Z",
     "start_time": "2021-02-08T20:22:25.903055Z"
    }
   },
   "outputs": [
    {
     "name": "stdout",
     "output_type": "stream",
     "text": [
      "Ms. Warren would hear it herself at events.\n",
      "This, to me, is what Iowa is all about.”\n"
     ]
    }
   ],
   "source": [
    "summarizer_3 = SumBasicSummarizer(stemmer)\n",
    "\n",
    "summarizer_3.stop_words = get_stop_words('english')\n",
    "for sentence in summarizer_3(parser.document, 2):\n",
    "    print(sentence)"
   ]
  },
  {
   "cell_type": "code",
   "execution_count": 89,
   "metadata": {
    "ExecuteTime": {
     "end_time": "2021-02-08T20:18:05.549703Z",
     "start_time": "2021-02-08T20:18:05.545991Z"
    }
   },
   "outputs": [
    {
     "data": {
      "text/plain": [
       "'In the early fall, Ms. Warren seemed to be the Democratic candidate to beat in Iowa. But many voters have had second thoughts over how her sweeping agenda would sell against President Trump.'"
      ]
     },
     "execution_count": 89,
     "metadata": {},
     "output_type": "execute_result"
    }
   ],
   "source": [
    "data[\"Summary\"][1]"
   ]
  },
  {
   "cell_type": "code",
   "execution_count": 97,
   "metadata": {
    "ExecuteTime": {
     "end_time": "2021-02-09T09:19:12.258516Z",
     "start_time": "2021-02-09T09:19:12.147351Z"
    }
   },
   "outputs": [
    {
     "name": "stdout",
     "output_type": "stream",
     "text": [
      "Ms. Warren’s supporters believe her early investment in an Iowa field organization will help her at the finish.\n",
      "This, to me, is what Iowa is all about.”\n"
     ]
    }
   ],
   "source": [
    "summarizer_4 = LexRankSummarizer(stemmer)\n",
    "\n",
    "summarizer_4.stop_words = get_stop_words('english')\n",
    "for sentence in summarizer_4(parser.document, 2):\n",
    "    print(sentence)"
   ]
  },
  {
   "cell_type": "code",
   "execution_count": 99,
   "metadata": {
    "ExecuteTime": {
     "end_time": "2021-02-09T09:20:25.299627Z",
     "start_time": "2021-02-09T09:20:24.814933Z"
    }
   },
   "outputs": [
    {
     "name": "stdout",
     "output_type": "stream",
     "text": [
      "Ms. Warren covered little new ground that day, talking about “running from the heart” and how “fear doesn’t win.” But on Tuesday night, before a national debate audience and with time running short to reignite her candidacy, Ms. Warren delivered her most emphatic answer to date about her electability: She cited her own electoral success compared to her male opponents, the political gains made by other female candidates and her determination to unify the Democrats.\n",
      "A poll late last week from The Des Moines Register showed her support at 17 percent, narrowly trailing Senator Bernie Sanders of Vermont, her ideological rival, but slightly ahead of former Vice President Joseph R. Biden Jr. and Mr. Buttigieg, the former mayor of South Bend, Ind.\n"
     ]
    }
   ],
   "source": [
    "summarizer_5 = KLSummarizer(stemmer)\n",
    "\n",
    "summarizer_5.stop_words = get_stop_words('english')\n",
    "for sentence in summarizer_5(parser.document, 2):\n",
    "    print(sentence)"
   ]
  },
  {
   "cell_type": "code",
   "execution_count": 103,
   "metadata": {
    "ExecuteTime": {
     "end_time": "2021-02-09T09:31:52.187773Z",
     "start_time": "2021-02-09T09:31:52.126581Z"
    }
   },
   "outputs": [
    {
     "name": "stdout",
     "output_type": "stream",
     "text": [
      "Ms. Warren covered little new ground that day, talking about “running from the heart” and how “fear doesn’t win.” But on Tuesday night, before a national debate audience and with time running short to reignite her candidacy, Ms. Warren delivered her most emphatic answer to date about her electability: She cited her own electoral success compared to her male opponents, the political gains made by other female candidates and her determination to unify the Democrats.\n",
      "“On the ground, based on what I’ve seen, Warren’s campaign is very focused on the person-to-person type of campaigning,” said Sandy Dockendorff, a former Democratic chairwoman in Des Moines County who has endorsed Ms. Warren.\n"
     ]
    }
   ],
   "source": [
    "summarizer_6 = ReductionSummarizer(stemmer)\n",
    "\n",
    "summarizer_6.stop_words = get_stop_words('english')\n",
    "for sentence in summarizer_6(parser.document, 2):\n",
    "    print(sentence)"
   ]
  },
  {
   "cell_type": "markdown",
   "metadata": {},
   "source": [
    "# Encoder-decoder"
   ]
  },
  {
   "cell_type": "markdown",
   "metadata": {},
   "source": [
    "Sebbene non abbia ancora provato delle tecniche di valutazione per gli algoritmi precedenti, voglio provare a vedere se un'architettura neurale potrebbe aiutare.\n",
    "\n",
    "In particolare, di seguito, al posto che usare delle tecniche di *extractive summarization*, si va ad applicare dell'*abstractive summarization*."
   ]
  },
  {
   "cell_type": "markdown",
   "metadata": {},
   "source": [
    "Per questa libreria, i dati devono essere messi come unico file di testo. Inoltre, dato che usiamo *supervised learning*, si devono prendere come input le summary."
   ]
  },
  {
   "cell_type": "code",
   "execution_count": 44,
   "metadata": {
    "ExecuteTime": {
     "end_time": "2021-02-09T12:15:51.497555Z",
     "start_time": "2021-02-09T12:15:51.002752Z"
    }
   },
   "outputs": [
    {
     "name": "stdout",
     "output_type": "stream",
     "text": [
      "\n",
      "\t\t SUMMARIZATION REVIEW\t\t\n",
      "\n",
      "[INFO] Loading configuration\n",
      "[INFO] Loading json data from\n",
      "[INFO] Removing articles without summary or paragraphs\n",
      "[INFO] Size before cleaning: 10335\n",
      "[INFO] Size after cleaning: 9480\n",
      "[INFO] Joining paragraphs\n"
     ]
    }
   ],
   "source": [
    "print(\"\\n\\t\\t SUMMARIZATION REVIEW\\t\\t\\n\")\n",
    "print('[INFO] Loading configuration')\n",
    "with open(\"./config.yml\", 'r') as file:\n",
    "    config_var = safe_load(file)[\"main\"]\n",
    "\n",
    "print(\"[INFO] Loading json data from\")\n",
    "with open(\n",
    "        str(config_var['dataset_folder'])+\"/\"+str(config_var['data_to_use']),\n",
    "        'r'\n",
    "        ) as file:\n",
    "    data = pd.DataFrame(json.load(file))\n",
    "\n",
    "print(\"[INFO] Removing articles without summary or paragraphs\")\n",
    "print(\"[INFO] Size before cleaning:\", len(data))\n",
    "data = data[(data[\"Summary\"].map(len) >= 1) &\n",
    "            (data[\"Paragraphs\"].map(len) >= 1)].reset_index()\n",
    "print(\"[INFO] Size after cleaning:\", len(data))\n",
    "\n",
    "print(\"[INFO] Joining paragraphs\")\n",
    "data[\"Text\"] = data[\"Paragraphs\"].apply(lambda x: \" \".join(x))"
   ]
  },
  {
   "cell_type": "code",
   "execution_count": 65,
   "metadata": {
    "ExecuteTime": {
     "end_time": "2021-02-09T12:26:18.430483Z",
     "start_time": "2021-02-09T12:26:02.179452Z"
    }
   },
   "outputs": [],
   "source": [
    "# prepare data for training\n",
    "data[\"Text_tokenized\"] = data[\"Text\"].apply(sent_tokenize)\n",
    "\n",
    "data[\"Text_processed\"] = (data[\"Text_tokenized\"].\n",
    "                          apply(lambda x: \"\\n\".join(x)))\n",
    "\n",
    "# do the same, but on the summaries\n",
    "data[\"Summary_tokenized\"] = data[\"Summary\"].apply(sent_tokenize)\n",
    "\n",
    "data[\"Summary_processed\"] = (data[\"Summary_tokenized\"].\n",
    "                          apply(lambda x: \"\\n\".join(x)))\n",
    "\n"
   ]
  },
  {
   "cell_type": "markdown",
   "metadata": {},
   "source": []
  },
  {
   "cell_type": "code",
   "execution_count": null,
   "metadata": {},
   "outputs": [],
   "source": []
  },
  {
   "cell_type": "code",
   "execution_count": 74,
   "metadata": {
    "ExecuteTime": {
     "end_time": "2021-02-09T13:08:05.688610Z",
     "start_time": "2021-02-09T13:08:05.686101Z"
    }
   },
   "outputs": [],
   "source": [
    "X = data[\"Text_processed\"]\n",
    "Y = data.Summary_processed"
   ]
  },
  {
   "cell_type": "code",
   "execution_count": 78,
   "metadata": {
    "ExecuteTime": {
     "end_time": "2021-02-09T13:09:57.228360Z",
     "start_time": "2021-02-09T13:09:57.012094Z"
    }
   },
   "outputs": [
    {
     "name": "stdout",
     "output_type": "stream",
     "text": [
      "loading csv file ...\n",
      "extract configuration from input texts ...\n"
     ]
    }
   ],
   "source": [
    "print('loading csv file ...')\n",
    "df = pd.read_csv(\"./keras-text-summarization-master/demo/data/fake_or_real_news.csv\")\n",
    "\n",
    "print('extract configuration from input texts ...')\n",
    "Y = df.title\n",
    "X = df['text']"
   ]
  },
  {
   "cell_type": "code",
   "execution_count": 79,
   "metadata": {
    "ExecuteTime": {
     "end_time": "2021-02-09T13:10:04.146160Z",
     "start_time": "2021-02-09T13:10:01.979759Z"
    }
   },
   "outputs": [],
   "source": [
    "config = fit_text(X, Y)\n",
    "\n",
    "summarizer = Seq2SeqSummarizer(config)"
   ]
  },
  {
   "cell_type": "code",
   "execution_count": 81,
   "metadata": {
    "ExecuteTime": {
     "end_time": "2021-02-09T13:10:12.944538Z",
     "start_time": "2021-02-09T13:10:12.939753Z"
    }
   },
   "outputs": [],
   "source": [
    "Xtrain, Xtest, Ytrain, Ytest = train_test_split(X,\n",
    "                                                Y,\n",
    "                                                test_size=0.2,\n",
    "                                                random_state=42)"
   ]
  },
  {
   "cell_type": "code",
   "execution_count": 84,
   "metadata": {
    "ExecuteTime": {
     "end_time": "2021-02-09T13:14:25.682101Z",
     "start_time": "2021-02-09T13:13:44.512016Z"
    }
   },
   "outputs": [
    {
     "name": "stdout",
     "output_type": "stream",
     "text": [
      "(5068,)\n",
      "(1267,)\n",
      "(5068, 500)\n",
      "(1267, 500)\n",
      "Epoch 1/10\n",
      "79/79 [==============================] - 35s 443ms/step - loss: 1.1073 - accuracy: 0.0200 - val_loss: 1.0916 - val_accuracy: 0.0200\n",
      "Epoch 2/10\n",
      "10/79 [==>...........................] - ETA: 30s - loss: 1.1145 - accuracy: 0.0200"
     ]
    },
    {
     "ename": "KeyboardInterrupt",
     "evalue": "",
     "output_type": "error",
     "traceback": [
      "\u001b[0;31m---------------------------------------------------------------------------\u001b[0m",
      "\u001b[0;31mKeyboardInterrupt\u001b[0m                         Traceback (most recent call last)",
      "\u001b[0;32m<ipython-input-84-b4853441d08f>\u001b[0m in \u001b[0;36m<module>\u001b[0;34m\u001b[0m\n\u001b[0;32m----> 1\u001b[0;31m \u001b[0mhistory\u001b[0m \u001b[0;34m=\u001b[0m \u001b[0msummarizer\u001b[0m\u001b[0;34m.\u001b[0m\u001b[0mfit\u001b[0m\u001b[0;34m(\u001b[0m\u001b[0mXtrain\u001b[0m\u001b[0;34m,\u001b[0m \u001b[0mYtrain\u001b[0m\u001b[0;34m,\u001b[0m \u001b[0mXtest\u001b[0m\u001b[0;34m,\u001b[0m \u001b[0mYtest\u001b[0m\u001b[0;34m,\u001b[0m \u001b[0mepochs\u001b[0m\u001b[0;34m=\u001b[0m\u001b[0;36m10\u001b[0m\u001b[0;34m)\u001b[0m\u001b[0;34m\u001b[0m\u001b[0;34m\u001b[0m\u001b[0m\n\u001b[0m",
      "\u001b[0;32m~/Desktop/GIT/Text_Mining/keras_text_summarization/library/seq2seq.py\u001b[0m in \u001b[0;36mfit\u001b[0;34m(self, Xtrain, Ytrain, Xtest, Ytest, epochs, batch_size, model_dir_path)\u001b[0m\n\u001b[1;32m    163\u001b[0m                                            \u001b[0mepochs\u001b[0m\u001b[0;34m=\u001b[0m\u001b[0mepochs\u001b[0m\u001b[0;34m,\u001b[0m\u001b[0;34m\u001b[0m\u001b[0;34m\u001b[0m\u001b[0m\n\u001b[1;32m    164\u001b[0m                                            \u001b[0mverbose\u001b[0m\u001b[0;34m=\u001b[0m\u001b[0mVERBOSE\u001b[0m\u001b[0;34m,\u001b[0m \u001b[0mvalidation_data\u001b[0m\u001b[0;34m=\u001b[0m\u001b[0mtest_gen\u001b[0m\u001b[0;34m,\u001b[0m \u001b[0mvalidation_steps\u001b[0m\u001b[0;34m=\u001b[0m\u001b[0mtest_num_batches\u001b[0m\u001b[0;34m,\u001b[0m\u001b[0;34m\u001b[0m\u001b[0;34m\u001b[0m\u001b[0m\n\u001b[0;32m--> 165\u001b[0;31m                                            callbacks=[checkpoint])\n\u001b[0m\u001b[1;32m    166\u001b[0m         \u001b[0mself\u001b[0m\u001b[0;34m.\u001b[0m\u001b[0mmodel\u001b[0m\u001b[0;34m.\u001b[0m\u001b[0msave_weights\u001b[0m\u001b[0;34m(\u001b[0m\u001b[0mweight_file_path\u001b[0m\u001b[0;34m)\u001b[0m\u001b[0;34m\u001b[0m\u001b[0;34m\u001b[0m\u001b[0m\n\u001b[1;32m    167\u001b[0m         \u001b[0;32mreturn\u001b[0m \u001b[0mhistory\u001b[0m\u001b[0;34m\u001b[0m\u001b[0;34m\u001b[0m\u001b[0m\n",
      "\u001b[0;32m~/anaconda3/envs/nlp/lib/python3.7/site-packages/tensorflow/python/keras/engine/training.py\u001b[0m in \u001b[0;36mfit_generator\u001b[0;34m(self, generator, steps_per_epoch, epochs, verbose, callbacks, validation_data, validation_steps, validation_freq, class_weight, max_queue_size, workers, use_multiprocessing, shuffle, initial_epoch)\u001b[0m\n\u001b[1;32m   1859\u001b[0m         \u001b[0muse_multiprocessing\u001b[0m\u001b[0;34m=\u001b[0m\u001b[0muse_multiprocessing\u001b[0m\u001b[0;34m,\u001b[0m\u001b[0;34m\u001b[0m\u001b[0;34m\u001b[0m\u001b[0m\n\u001b[1;32m   1860\u001b[0m         \u001b[0mshuffle\u001b[0m\u001b[0;34m=\u001b[0m\u001b[0mshuffle\u001b[0m\u001b[0;34m,\u001b[0m\u001b[0;34m\u001b[0m\u001b[0;34m\u001b[0m\u001b[0m\n\u001b[0;32m-> 1861\u001b[0;31m         initial_epoch=initial_epoch)\n\u001b[0m\u001b[1;32m   1862\u001b[0m \u001b[0;34m\u001b[0m\u001b[0m\n\u001b[1;32m   1863\u001b[0m   def evaluate_generator(self,\n",
      "\u001b[0;32m~/anaconda3/envs/nlp/lib/python3.7/site-packages/tensorflow/python/keras/engine/training.py\u001b[0m in \u001b[0;36mfit\u001b[0;34m(self, x, y, batch_size, epochs, verbose, callbacks, validation_split, validation_data, shuffle, class_weight, sample_weight, initial_epoch, steps_per_epoch, validation_steps, validation_batch_size, validation_freq, max_queue_size, workers, use_multiprocessing)\u001b[0m\n\u001b[1;32m   1098\u001b[0m                 _r=1):\n\u001b[1;32m   1099\u001b[0m               \u001b[0mcallbacks\u001b[0m\u001b[0;34m.\u001b[0m\u001b[0mon_train_batch_begin\u001b[0m\u001b[0;34m(\u001b[0m\u001b[0mstep\u001b[0m\u001b[0;34m)\u001b[0m\u001b[0;34m\u001b[0m\u001b[0;34m\u001b[0m\u001b[0m\n\u001b[0;32m-> 1100\u001b[0;31m               \u001b[0mtmp_logs\u001b[0m \u001b[0;34m=\u001b[0m \u001b[0mself\u001b[0m\u001b[0;34m.\u001b[0m\u001b[0mtrain_function\u001b[0m\u001b[0;34m(\u001b[0m\u001b[0miterator\u001b[0m\u001b[0;34m)\u001b[0m\u001b[0;34m\u001b[0m\u001b[0;34m\u001b[0m\u001b[0m\n\u001b[0m\u001b[1;32m   1101\u001b[0m               \u001b[0;32mif\u001b[0m \u001b[0mdata_handler\u001b[0m\u001b[0;34m.\u001b[0m\u001b[0mshould_sync\u001b[0m\u001b[0;34m:\u001b[0m\u001b[0;34m\u001b[0m\u001b[0;34m\u001b[0m\u001b[0m\n\u001b[1;32m   1102\u001b[0m                 \u001b[0mcontext\u001b[0m\u001b[0;34m.\u001b[0m\u001b[0masync_wait\u001b[0m\u001b[0;34m(\u001b[0m\u001b[0;34m)\u001b[0m\u001b[0;34m\u001b[0m\u001b[0;34m\u001b[0m\u001b[0m\n",
      "\u001b[0;32m~/anaconda3/envs/nlp/lib/python3.7/site-packages/tensorflow/python/eager/def_function.py\u001b[0m in \u001b[0;36m__call__\u001b[0;34m(self, *args, **kwds)\u001b[0m\n\u001b[1;32m    826\u001b[0m     \u001b[0mtracing_count\u001b[0m \u001b[0;34m=\u001b[0m \u001b[0mself\u001b[0m\u001b[0;34m.\u001b[0m\u001b[0mexperimental_get_tracing_count\u001b[0m\u001b[0;34m(\u001b[0m\u001b[0;34m)\u001b[0m\u001b[0;34m\u001b[0m\u001b[0;34m\u001b[0m\u001b[0m\n\u001b[1;32m    827\u001b[0m     \u001b[0;32mwith\u001b[0m \u001b[0mtrace\u001b[0m\u001b[0;34m.\u001b[0m\u001b[0mTrace\u001b[0m\u001b[0;34m(\u001b[0m\u001b[0mself\u001b[0m\u001b[0;34m.\u001b[0m\u001b[0m_name\u001b[0m\u001b[0;34m)\u001b[0m \u001b[0;32mas\u001b[0m \u001b[0mtm\u001b[0m\u001b[0;34m:\u001b[0m\u001b[0;34m\u001b[0m\u001b[0;34m\u001b[0m\u001b[0m\n\u001b[0;32m--> 828\u001b[0;31m       \u001b[0mresult\u001b[0m \u001b[0;34m=\u001b[0m \u001b[0mself\u001b[0m\u001b[0;34m.\u001b[0m\u001b[0m_call\u001b[0m\u001b[0;34m(\u001b[0m\u001b[0;34m*\u001b[0m\u001b[0margs\u001b[0m\u001b[0;34m,\u001b[0m \u001b[0;34m**\u001b[0m\u001b[0mkwds\u001b[0m\u001b[0;34m)\u001b[0m\u001b[0;34m\u001b[0m\u001b[0;34m\u001b[0m\u001b[0m\n\u001b[0m\u001b[1;32m    829\u001b[0m       \u001b[0mcompiler\u001b[0m \u001b[0;34m=\u001b[0m \u001b[0;34m\"xla\"\u001b[0m \u001b[0;32mif\u001b[0m \u001b[0mself\u001b[0m\u001b[0;34m.\u001b[0m\u001b[0m_experimental_compile\u001b[0m \u001b[0;32melse\u001b[0m \u001b[0;34m\"nonXla\"\u001b[0m\u001b[0;34m\u001b[0m\u001b[0;34m\u001b[0m\u001b[0m\n\u001b[1;32m    830\u001b[0m       \u001b[0mnew_tracing_count\u001b[0m \u001b[0;34m=\u001b[0m \u001b[0mself\u001b[0m\u001b[0;34m.\u001b[0m\u001b[0mexperimental_get_tracing_count\u001b[0m\u001b[0;34m(\u001b[0m\u001b[0;34m)\u001b[0m\u001b[0;34m\u001b[0m\u001b[0;34m\u001b[0m\u001b[0m\n",
      "\u001b[0;32m~/anaconda3/envs/nlp/lib/python3.7/site-packages/tensorflow/python/eager/def_function.py\u001b[0m in \u001b[0;36m_call\u001b[0;34m(self, *args, **kwds)\u001b[0m\n\u001b[1;32m    853\u001b[0m       \u001b[0;31m# In this case we have created variables on the first call, so we run the\u001b[0m\u001b[0;34m\u001b[0m\u001b[0;34m\u001b[0m\u001b[0;34m\u001b[0m\u001b[0m\n\u001b[1;32m    854\u001b[0m       \u001b[0;31m# defunned version which is guaranteed to never create variables.\u001b[0m\u001b[0;34m\u001b[0m\u001b[0;34m\u001b[0m\u001b[0;34m\u001b[0m\u001b[0m\n\u001b[0;32m--> 855\u001b[0;31m       \u001b[0;32mreturn\u001b[0m \u001b[0mself\u001b[0m\u001b[0;34m.\u001b[0m\u001b[0m_stateless_fn\u001b[0m\u001b[0;34m(\u001b[0m\u001b[0;34m*\u001b[0m\u001b[0margs\u001b[0m\u001b[0;34m,\u001b[0m \u001b[0;34m**\u001b[0m\u001b[0mkwds\u001b[0m\u001b[0;34m)\u001b[0m  \u001b[0;31m# pylint: disable=not-callable\u001b[0m\u001b[0;34m\u001b[0m\u001b[0;34m\u001b[0m\u001b[0m\n\u001b[0m\u001b[1;32m    856\u001b[0m     \u001b[0;32melif\u001b[0m \u001b[0mself\u001b[0m\u001b[0;34m.\u001b[0m\u001b[0m_stateful_fn\u001b[0m \u001b[0;32mis\u001b[0m \u001b[0;32mnot\u001b[0m \u001b[0;32mNone\u001b[0m\u001b[0;34m:\u001b[0m\u001b[0;34m\u001b[0m\u001b[0;34m\u001b[0m\u001b[0m\n\u001b[1;32m    857\u001b[0m       \u001b[0;31m# Release the lock early so that multiple threads can perform the call\u001b[0m\u001b[0;34m\u001b[0m\u001b[0;34m\u001b[0m\u001b[0;34m\u001b[0m\u001b[0m\n",
      "\u001b[0;32m~/anaconda3/envs/nlp/lib/python3.7/site-packages/tensorflow/python/eager/function.py\u001b[0m in \u001b[0;36m__call__\u001b[0;34m(self, *args, **kwargs)\u001b[0m\n\u001b[1;32m   2941\u001b[0m        filtered_flat_args) = self._maybe_define_function(args, kwargs)\n\u001b[1;32m   2942\u001b[0m     return graph_function._call_flat(\n\u001b[0;32m-> 2943\u001b[0;31m         filtered_flat_args, captured_inputs=graph_function.captured_inputs)  # pylint: disable=protected-access\n\u001b[0m\u001b[1;32m   2944\u001b[0m \u001b[0;34m\u001b[0m\u001b[0m\n\u001b[1;32m   2945\u001b[0m   \u001b[0;34m@\u001b[0m\u001b[0mproperty\u001b[0m\u001b[0;34m\u001b[0m\u001b[0;34m\u001b[0m\u001b[0m\n",
      "\u001b[0;32m~/anaconda3/envs/nlp/lib/python3.7/site-packages/tensorflow/python/eager/function.py\u001b[0m in \u001b[0;36m_call_flat\u001b[0;34m(self, args, captured_inputs, cancellation_manager)\u001b[0m\n\u001b[1;32m   1917\u001b[0m       \u001b[0;31m# No tape is watching; skip to running the function.\u001b[0m\u001b[0;34m\u001b[0m\u001b[0;34m\u001b[0m\u001b[0;34m\u001b[0m\u001b[0m\n\u001b[1;32m   1918\u001b[0m       return self._build_call_outputs(self._inference_function.call(\n\u001b[0;32m-> 1919\u001b[0;31m           ctx, args, cancellation_manager=cancellation_manager))\n\u001b[0m\u001b[1;32m   1920\u001b[0m     forward_backward = self._select_forward_and_backward_functions(\n\u001b[1;32m   1921\u001b[0m         \u001b[0margs\u001b[0m\u001b[0;34m,\u001b[0m\u001b[0;34m\u001b[0m\u001b[0;34m\u001b[0m\u001b[0m\n",
      "\u001b[0;32m~/anaconda3/envs/nlp/lib/python3.7/site-packages/tensorflow/python/eager/function.py\u001b[0m in \u001b[0;36mcall\u001b[0;34m(self, ctx, args, cancellation_manager)\u001b[0m\n\u001b[1;32m    558\u001b[0m               \u001b[0minputs\u001b[0m\u001b[0;34m=\u001b[0m\u001b[0margs\u001b[0m\u001b[0;34m,\u001b[0m\u001b[0;34m\u001b[0m\u001b[0;34m\u001b[0m\u001b[0m\n\u001b[1;32m    559\u001b[0m               \u001b[0mattrs\u001b[0m\u001b[0;34m=\u001b[0m\u001b[0mattrs\u001b[0m\u001b[0;34m,\u001b[0m\u001b[0;34m\u001b[0m\u001b[0;34m\u001b[0m\u001b[0m\n\u001b[0;32m--> 560\u001b[0;31m               ctx=ctx)\n\u001b[0m\u001b[1;32m    561\u001b[0m         \u001b[0;32melse\u001b[0m\u001b[0;34m:\u001b[0m\u001b[0;34m\u001b[0m\u001b[0;34m\u001b[0m\u001b[0m\n\u001b[1;32m    562\u001b[0m           outputs = execute.execute_with_cancellation(\n",
      "\u001b[0;32m~/anaconda3/envs/nlp/lib/python3.7/site-packages/tensorflow/python/eager/execute.py\u001b[0m in \u001b[0;36mquick_execute\u001b[0;34m(op_name, num_outputs, inputs, attrs, ctx, name)\u001b[0m\n\u001b[1;32m     58\u001b[0m     \u001b[0mctx\u001b[0m\u001b[0;34m.\u001b[0m\u001b[0mensure_initialized\u001b[0m\u001b[0;34m(\u001b[0m\u001b[0;34m)\u001b[0m\u001b[0;34m\u001b[0m\u001b[0;34m\u001b[0m\u001b[0m\n\u001b[1;32m     59\u001b[0m     tensors = pywrap_tfe.TFE_Py_Execute(ctx._handle, device_name, op_name,\n\u001b[0;32m---> 60\u001b[0;31m                                         inputs, attrs, num_outputs)\n\u001b[0m\u001b[1;32m     61\u001b[0m   \u001b[0;32mexcept\u001b[0m \u001b[0mcore\u001b[0m\u001b[0;34m.\u001b[0m\u001b[0m_NotOkStatusException\u001b[0m \u001b[0;32mas\u001b[0m \u001b[0me\u001b[0m\u001b[0;34m:\u001b[0m\u001b[0;34m\u001b[0m\u001b[0;34m\u001b[0m\u001b[0m\n\u001b[1;32m     62\u001b[0m     \u001b[0;32mif\u001b[0m \u001b[0mname\u001b[0m \u001b[0;32mis\u001b[0m \u001b[0;32mnot\u001b[0m \u001b[0;32mNone\u001b[0m\u001b[0;34m:\u001b[0m\u001b[0;34m\u001b[0m\u001b[0;34m\u001b[0m\u001b[0m\n",
      "\u001b[0;31mKeyboardInterrupt\u001b[0m: "
     ]
    }
   ],
   "source": [
    "history = summarizer.fit(Xtrain, Ytrain, Xtest, Ytest, epochs=10)"
   ]
  },
  {
   "cell_type": "markdown",
   "metadata": {},
   "source": [
    "Per qualche motivo, non riesce ad andare oltre il risultato che ottiene dopo la terza epoca. Lo addestro dunque poco, e vedo un attimo che coso riesce a sparare fuori."
   ]
  },
  {
   "cell_type": "code",
   "execution_count": 83,
   "metadata": {
    "ExecuteTime": {
     "end_time": "2021-02-09T13:12:09.284362Z",
     "start_time": "2021-02-09T13:12:07.016025Z"
    },
    "collapsed": true
   },
   "outputs": [
    {
     "name": "stdout",
     "output_type": "stream",
     "text": [
      "Generated Summary:  \n",
      "Original Summary:  You Can Smell Hillary’s Fear\n",
      "Generated Summary:  \n",
      "Original Summary:  Watch The Exact Moment Paul Ryan Committed Political Suicide At A Trump Rally (VIDEO)\n",
      "Generated Summary:  \n",
      "Original Summary:  Kerry to go to Paris in gesture of sympathy\n",
      "Generated Summary:  \n",
      "Original Summary:  Bernie supporters on Twitter erupt in anger against the DNC: 'We tried to warn you!'\n",
      "Generated Summary:  \n",
      "Original Summary:  The Battle of New York: Why This Primary Matters\n",
      "Generated Summary:  \n",
      "Original Summary:  Tehran, USA\n",
      "Generated Summary:  \n",
      "Original Summary:  Girl Horrified At What She Watches Boyfriend Do After He Left FaceTime On\n",
      "Generated Summary:  \n",
      "Original Summary:  ‘Britain’s Schindler’ Dies at 106\n",
      "Generated Summary:  \n",
      "Original Summary:  Fact check: Trump and Clinton at the 'commander-in-chief' forum\n",
      "Generated Summary:  \n",
      "Original Summary:  Iran reportedly makes new push for uranium concessions in nuclear talks\n",
      "Generated Summary:  \n",
      "Original Summary:  With all three Clintons in Iowa, a glimpse at the fire that has eluded Hillary Clinton’s campaign\n",
      "Generated Summary:  \n",
      "Original Summary:  Donald Trump’s Shockingly Weak Delegate Game Somehow Got Even Worse\n",
      "Generated Summary:  \n",
      "Original Summary:  Strong Solar Storm, Tech Risks Today | S0 News Oct.26.2016 [VIDEO]\n",
      "Generated Summary:  \n",
      "Original Summary:  10 Ways America Is Preparing for World War 3\n",
      "Generated Summary:  \n",
      "Original Summary:  Trump takes on Cruz, but lightly\n",
      "Generated Summary:  \n",
      "Original Summary:  How women lead differently\n",
      "Generated Summary:  \n",
      "Original Summary:  Shocking! Michele Obama & Hillary Caught Glamorizing Date Rape Promoters\n",
      "Generated Summary:  \n",
      "Original Summary:  Hillary Clinton in HUGE Trouble After America Noticed SICK Thing Hidden in this Picture... * LIBERTY WRITERS NEWS\n",
      "Generated Summary:  \n",
      "Original Summary:  What's in that Iran bill that Obama doesn't like?\n",
      "Generated Summary:  \n",
      "Original Summary:  The 1 chart that explains everything you need to know about partisanship in America\n"
     ]
    }
   ],
   "source": [
    "for i in range(20):\n",
    "    x = X[i]\n",
    "    actual_headline = Y[i]\n",
    "    headline = summarizer.summarize(x)\n",
    "#     print('Article: ', x)\n",
    "    print('Generated Summary: ', headline)\n",
    "    print('Original Summary: ', actual_headline)\n"
   ]
  },
  {
   "cell_type": "code",
   "execution_count": 86,
   "metadata": {
    "ExecuteTime": {
     "end_time": "2021-02-09T13:14:52.156226Z",
     "start_time": "2021-02-09T13:14:52.153815Z"
    }
   },
   "outputs": [],
   "source": [
    "data_dir_path = './keras-text-summarization-master/demo/data' # refers to the demo/data folder\n",
    "model_dir_path = './keras-text-summarization-master/demo/models' # refers to the demo/models folder"
   ]
  },
  {
   "cell_type": "markdown",
   "metadata": {},
   "source": [
    "# Another Attention Encoder-Decoer"
   ]
  },
  {
   "cell_type": "markdown",
   "metadata": {},
   "source": [
    "Per qualche cazzo di motivo, quello di prima non riesce a funzionare - va a prevedere con la parole più frequente."
   ]
  },
  {
   "cell_type": "code",
   "execution_count": 3,
   "metadata": {
    "ExecuteTime": {
     "end_time": "2021-02-09T14:30:58.268100Z",
     "start_time": "2021-02-09T14:18:08.601296Z"
    }
   },
   "outputs": [
    {
     "name": "stdout",
     "output_type": "stream",
     "text": [
      "\u001b[1mDownloading and preparing dataset 558.32 MiB (download: 558.32 MiB, generated: 1.27 GiB, total: 1.82 GiB) to /Users/leonardoalchieri/tensorflow_datasets/cnn_dailymail/3.1.0...\u001b[0m\n"
     ]
    },
    {
     "data": {
      "application/vnd.jupyter.widget-view+json": {
       "model_id": "f6048c14ad764cd7a06955d3cb696982",
       "version_major": 2,
       "version_minor": 0
      },
      "text/plain": [
       "HBox(children=(FloatProgress(value=1.0, bar_style='info', description='Dl Completed...', layout=Layout(width='…"
      ]
     },
     "metadata": {},
     "output_type": "display_data"
    },
    {
     "data": {
      "application/vnd.jupyter.widget-view+json": {
       "model_id": "30c2550fcfbc472fabc9e4295f430d05",
       "version_major": 2,
       "version_minor": 0
      },
      "text/plain": [
       "HBox(children=(FloatProgress(value=1.0, bar_style='info', description='Dl Size...', layout=Layout(width='20px'…"
      ]
     },
     "metadata": {},
     "output_type": "display_data"
    },
    {
     "data": {
      "application/vnd.jupyter.widget-view+json": {
       "model_id": "7c1fd544804041d5813c473b31dac979",
       "version_major": 2,
       "version_minor": 0
      },
      "text/plain": [
       "HBox(children=(FloatProgress(value=1.0, bar_style='info', description='Extraction completed...', layout=Layout…"
      ]
     },
     "metadata": {},
     "output_type": "display_data"
    },
    {
     "name": "stdout",
     "output_type": "stream",
     "text": [
      "\n",
      "\n",
      "\n",
      "\n",
      "\n",
      "\n"
     ]
    },
    {
     "data": {
      "application/vnd.jupyter.widget-view+json": {
       "model_id": "",
       "version_major": 2,
       "version_minor": 0
      },
      "text/plain": [
       "HBox(children=(FloatProgress(value=0.0, description='Generating splits...', max=3.0, style=ProgressStyle(descr…"
      ]
     },
     "metadata": {},
     "output_type": "display_data"
    },
    {
     "data": {
      "application/vnd.jupyter.widget-view+json": {
       "model_id": "",
       "version_major": 2,
       "version_minor": 0
      },
      "text/plain": [
       "HBox(children=(FloatProgress(value=0.0, description='Generating train examples...', max=287113.0, style=Progre…"
      ]
     },
     "metadata": {},
     "output_type": "display_data"
    },
    {
     "data": {
      "application/vnd.jupyter.widget-view+json": {
       "model_id": "",
       "version_major": 2,
       "version_minor": 0
      },
      "text/plain": [
       "HBox(children=(FloatProgress(value=0.0, description='Shuffling cnn_dailymail-train.tfrecord...', max=287113.0,…"
      ]
     },
     "metadata": {},
     "output_type": "display_data"
    },
    {
     "data": {
      "application/vnd.jupyter.widget-view+json": {
       "model_id": "",
       "version_major": 2,
       "version_minor": 0
      },
      "text/plain": [
       "HBox(children=(FloatProgress(value=0.0, description='Generating validation examples...', max=13368.0, style=Pr…"
      ]
     },
     "metadata": {},
     "output_type": "display_data"
    },
    {
     "data": {
      "application/vnd.jupyter.widget-view+json": {
       "model_id": "",
       "version_major": 2,
       "version_minor": 0
      },
      "text/plain": [
       "HBox(children=(FloatProgress(value=0.0, description='Shuffling cnn_dailymail-validation.tfrecord...', max=1336…"
      ]
     },
     "metadata": {},
     "output_type": "display_data"
    },
    {
     "data": {
      "application/vnd.jupyter.widget-view+json": {
       "model_id": "",
       "version_major": 2,
       "version_minor": 0
      },
      "text/plain": [
       "HBox(children=(FloatProgress(value=0.0, description='Generating test examples...', max=11490.0, style=Progress…"
      ]
     },
     "metadata": {},
     "output_type": "display_data"
    },
    {
     "data": {
      "application/vnd.jupyter.widget-view+json": {
       "model_id": "",
       "version_major": 2,
       "version_minor": 0
      },
      "text/plain": [
       "HBox(children=(FloatProgress(value=0.0, description='Shuffling cnn_dailymail-test.tfrecord...', max=11490.0, s…"
      ]
     },
     "metadata": {},
     "output_type": "display_data"
    },
    {
     "name": "stdout",
     "output_type": "stream",
     "text": [
      "\u001b[1mDataset cnn_dailymail downloaded and prepared to /Users/leonardoalchieri/tensorflow_datasets/cnn_dailymail/3.1.0. Subsequent calls will reuse this data.\u001b[0m\n",
      "tfds.core.DatasetInfo(\n",
      "    name='cnn_dailymail',\n",
      "    full_name='cnn_dailymail/3.1.0',\n",
      "    description=\"\"\"\n",
      "    CNN/DailyMail non-anonymized summarization dataset.\n",
      "    \n",
      "    There are two features:\n",
      "      - article: text of news article, used as the document to be summarized\n",
      "      - highlights: joined text of highlights with <s> and </s> around each\n",
      "        highlight, which is the target summary\n",
      "    \"\"\",\n",
      "    homepage='https://github.com/abisee/cnn-dailymail',\n",
      "    data_path='/Users/leonardoalchieri/tensorflow_datasets/cnn_dailymail/3.1.0',\n",
      "    download_size=558.32 MiB,\n",
      "    dataset_size=1.27 GiB,\n",
      "    features=FeaturesDict({\n",
      "        'article': Text(shape=(), dtype=tf.string),\n",
      "        'highlights': Text(shape=(), dtype=tf.string),\n",
      "    }),\n",
      "    supervised_keys=('article', 'highlights'),\n",
      "    splits={\n",
      "        'test': <SplitInfo num_examples=11490, num_shards=1>,\n",
      "        'train': <SplitInfo num_examples=287113, num_shards=16>,\n",
      "        'validation': <SplitInfo num_examples=13368, num_shards=1>,\n",
      "    },\n",
      "    citation=\"\"\"@article{DBLP:journals/corr/SeeLM17,\n",
      "      author    = {Abigail See and\n",
      "                   Peter J. Liu and\n",
      "                   Christopher D. Manning},\n",
      "      title     = {Get To The Point: Summarization with Pointer-Generator Networks},\n",
      "      journal   = {CoRR},\n",
      "      volume    = {abs/1704.04368},\n",
      "      year      = {2017},\n",
      "      url       = {http://arxiv.org/abs/1704.04368},\n",
      "      archivePrefix = {arXiv},\n",
      "      eprint    = {1704.04368},\n",
      "      timestamp = {Mon, 13 Aug 2018 16:46:08 +0200},\n",
      "      biburl    = {https://dblp.org/rec/bib/journals/corr/SeeLM17},\n",
      "      bibsource = {dblp computer science bibliography, https://dblp.org}\n",
      "    }\n",
      "    \n",
      "    @inproceedings{hermann2015teaching,\n",
      "      title={Teaching machines to read and comprehend},\n",
      "      author={Hermann, Karl Moritz and Kocisky, Tomas and Grefenstette, Edward and Espeholt, Lasse and Kay, Will and Suleyman, Mustafa and Blunsom, Phil},\n",
      "      booktitle={Advances in neural information processing systems},\n",
      "      pages={1693--1701},\n",
      "      year={2015}\n",
      "    }\"\"\",\n",
      ")\n"
     ]
    }
   ],
   "source": [
    "# Import Libraries\n",
    "import tensorflow as tf\n",
    "import tensorflow_datasets as tfds\n",
    "import numpy as np  \n",
    "import pandas as pd \n",
    "import re      \n",
    "# To list all the available datasets currently present in the repo.\n",
    "builders = tfds.list_builders()\n",
    "data, info = tfds.load(\"cnn_dailymail\", with_info=True)\n",
    "train_data, test_data = data['train'], data['test']\n",
    "# print info of the dataset\n",
    "print(info)"
   ]
  },
  {
   "cell_type": "code",
   "execution_count": null,
   "metadata": {},
   "outputs": [],
   "source": []
  }
 ],
 "metadata": {
  "kernelspec": {
   "display_name": "Python 3",
   "language": "python",
   "name": "python3"
  },
  "language_info": {
   "codemirror_mode": {
    "name": "ipython",
    "version": 3
   },
   "file_extension": ".py",
   "mimetype": "text/x-python",
   "name": "python",
   "nbconvert_exporter": "python",
   "pygments_lexer": "ipython3",
   "version": "3.7.9"
  },
  "toc": {
   "base_numbering": 1,
   "nav_menu": {},
   "number_sections": true,
   "sideBar": true,
   "skip_h1_title": false,
   "title_cell": "Table of Contents",
   "title_sidebar": "Contents",
   "toc_cell": false,
   "toc_position": {},
   "toc_section_display": true,
   "toc_window_display": false
  }
 },
 "nbformat": 4,
 "nbformat_minor": 4
}
