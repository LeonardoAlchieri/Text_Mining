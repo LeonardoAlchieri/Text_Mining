{
 "cells": [
  {
   "cell_type": "markdown",
   "metadata": {},
   "source": [
    "In this notebook I try the scripts for the visualization of the evaluations results obtained."
   ]
  },
  {
   "cell_type": "code",
   "execution_count": 68,
   "metadata": {
    "ExecuteTime": {
     "end_time": "2021-02-13T08:55:22.521466Z",
     "start_time": "2021-02-13T08:55:22.516912Z"
    }
   },
   "outputs": [
    {
     "data": {
      "text/plain": [
       "LSA          0.290985\n",
       "Luhn         0.307734\n",
       "Lex          0.268449\n",
       "LexRank      0.135409\n",
       "Random       0.153662\n",
       "Reduction    0.339778\n",
       "dtype: float64"
      ]
     },
     "execution_count": 68,
     "metadata": {},
     "output_type": "execute_result"
    }
   ],
   "source": [
    "avgs.max(axis =1)"
   ]
  },
  {
   "cell_type": "code",
   "execution_count": 39,
   "metadata": {
    "ExecuteTime": {
     "end_time": "2021-02-13T08:37:59.494790Z",
     "start_time": "2021-02-13T08:37:59.491988Z"
    }
   },
   "outputs": [],
   "source": [
    "import matplotlib.pyplot as plt\n",
    "import pandas as pd\n",
    "from yaml import safe_load\n",
    "\n",
    "print(\"\\n\\t\\t VISULIZATION EVALUATIONS\\t\\t\\n\")\n",
    "print('[INFO] Loading configuration')\n",
    "with open(\"./config.yml\", 'r') as file:\n",
    "    config_var = safe_load(file)[\"main\"]\n",
    "\n",
    "with open(config_var[\"output_folder\"]+\"/avgs.csv\", 'r') as file:\n",
    "    avgs = pd.read_csv(file, index_col = 0)\n",
    "with open(config_var[\"output_folder\"]+\"/ses.csv\", 'r') as file:\n",
    "    ses = pd.read_csv(file, index_col = 0)    \n",
    "\n",
    "avgs = avgs.drop(index = 'Rouge_L_summary_level', axis = 0)\n",
    "ses = ses.drop(index = 'Rouge_L_summary_level', axis = 0)\n",
    "\n",
    "color_list = [\"#782113\", \"#A54040\", \"#F28E4C\", \"#F7BB48\", \"#C3BF50\", \"#439F7E\"]\n",
    "\n",
    "FONTSIZE = 13\n",
    "plt.figure(figsize=(20, 15))\n",
    "plt.subplot(153)\n",
    "for i, col in enumerate(avgs):\n",
    "    plt.errorbar(x=avgs.index,\n",
    "                 y=avgs[col],\n",
    "                 yerr=ses[col],\n",
    "                 label=col,\n",
    "                 elinewidth=40,\n",
    "                 linestyle='none',\n",
    "                 markersize=10,\n",
    "                 marker='.',\n",
    "                 color=color_list[i],\n",
    "                 ecolor=color_list[i]+\"BF\")\n",
    "# plt.errorbar(x=X,\n",
    "#              y=y2,\n",
    "#              yerr=err2,\n",
    "#              label='Objective',\n",
    "#              elinewidth=40,\n",
    "#              linestyle='none',\n",
    "#              markersize=10,\n",
    "#              marker='_',\n",
    "#              color=\"#5353A6\",\n",
    "#              ecolor=\"#5353A6BF\")\n",
    "plt.legend(loc='best')\n",
    "plt.ylim((0,0.35))\n",
    "plt.tick_params(labelsize=FONTSIZE)\n",
    "plt.margins(x=0.5)\n",
    "plt.grid(True)\n",
    "locs, labels = plt.xticks()\n",
    "plt.setp(labels, rotation=40)\n",
    "# Non posso mettere il titolo, perché mi viene tagliato\n",
    "plt.title(\"Evaluations on \"+config_var[\"name\"], pad=10, fontsize=17)\n",
    "plt.savefig(config_var['vis_folder']+\"/error_plot_test.pdf\")\n",
    "plt.show()"
   ]
  },
  {
   "cell_type": "code",
   "execution_count": null,
   "metadata": {},
   "outputs": [],
   "source": []
  }
 ],
 "metadata": {
  "kernelspec": {
   "display_name": "Python 3",
   "language": "python",
   "name": "python3"
  },
  "language_info": {
   "codemirror_mode": {
    "name": "ipython",
    "version": 3
   },
   "file_extension": ".py",
   "mimetype": "text/x-python",
   "name": "python",
   "nbconvert_exporter": "python",
   "pygments_lexer": "ipython3",
   "version": "3.7.9"
  },
  "toc": {
   "base_numbering": 1,
   "nav_menu": {},
   "number_sections": true,
   "sideBar": true,
   "skip_h1_title": false,
   "title_cell": "Table of Contents",
   "title_sidebar": "Contents",
   "toc_cell": false,
   "toc_position": {},
   "toc_section_display": true,
   "toc_window_display": false
  }
 },
 "nbformat": 4,
 "nbformat_minor": 4
}
